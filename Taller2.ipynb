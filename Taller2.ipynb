{
 "cells": [
  {
   "cell_type": "markdown",
   "id": "bca4ab66",
   "metadata": {},
   "source": [
    "# Exploracion Bases De Datos\n",
    "\n",
    "## Cats - Dogs (Audios)\n",
    "- **Fuente**: [Audio Cats and Dogs - Kaggle](https://www.kaggle.com/datasets/mmoreaux/audio-cats-and-dogs)\n",
    "- **Tipo De Datos**: Esta es una base de datos **secundaria**, ya que la información fue recopilada por otras personas. Se trata de datos de acceso público que no fueron recolectados específicamente con el propósito de realizar un análisis.\n",
    "    - Los datos costan de audios de gatos y perros en formato .wav de 16KHz y duracion variable.\n",
    "\n",
    "A continuacion el calculo de las caracteristicas basicas.\n"
   ]
  },
  {
   "cell_type": "code",
   "execution_count": 9,
   "id": "c700aabe",
   "metadata": {},
   "outputs": [
    {
     "name": "stdout",
     "output_type": "stream",
     "text": [
      "Cantidad total de archivos: 277\n",
      "Cantidad de archivos para 'cat': 164\n",
      "Cantidad de archivos para 'dog': 113\n"
     ]
    }
   ],
   "source": [
    "import os\n",
    "\n",
    "# Ruta de la carpeta\n",
    "folder_path = \"cats_dogs\"\n",
    "\n",
    "# Listas para almacenar los nombres de los archivos\n",
    "all_files = []\n",
    "cat_files = []\n",
    "dog_files = []\n",
    "\n",
    "# Recorremos todos los archivos de la carpeta\n",
    "for file in os.listdir(folder_path):\n",
    "    if os.path.isfile(os.path.join(folder_path, file)):  # verificamos que sea un archivo\n",
    "        all_files.append(file)\n",
    "        if \"cat\" in file.lower():   # buscar 'cat' sin importar mayúsculas\n",
    "            cat_files.append(file)\n",
    "        elif \"dog\" in file.lower(): # buscar 'dog' sin importar mayúsculas\n",
    "            dog_files.append(file)\n",
    "\n",
    "# Resultados\n",
    "print(\"Cantidad total de archivos:\", len(all_files))\n",
    "print(\"Cantidad de archivos para 'cat':\", len(cat_files))\n",
    "print(\"Cantidad de archivos para 'dog':\", len(dog_files))\n"
   ]
  },
  {
   "cell_type": "markdown",
   "id": "ba0cea0c",
   "metadata": {},
   "source": [
    "- **Caracteristicas Basicas**\n",
    "    - Cantidad **total** de archivos: 277\n",
    "    - Cantidad de archivos para **'cat'**: 164\n",
    "    - Cantidad de archivos para **'dog'**: 113\n",
    "- **Posibles Aplicaciones**: Clasificación de sonidos, Reconocimiento de animales en ambientes reales, Detección temprana en dispositivos IoT (ej. Alexa)\n"
   ]
  },
  {
   "cell_type": "markdown",
   "id": "bdaffc98",
   "metadata": {},
   "source": [
    "# Rayos X Neumonia (Imagenes)\n",
    "\n",
    "- **Fuente**: [Chest X-Ray Images (Pneumonia) - Kaggle](https://www.kaggle.com/code/shyambv/starter-chest-x-ray-images-pneumonia-0f43d8bd-7)\n",
    "- **Tipo De Datos**: Esta es una base de datos **secundaria**, ya que la información fue recopilada por otras personas. Se trata de datos de acceso público que no fueron recolectados específicamente con el propósito de realizar un análisis.\n",
    "    - Los datos costan de imagenes de rayos x de personas con y sin neumonia, el formato de las imagenes es jpeg con dimensiones variables.\n",
    "\n",
    "A continuacion el calculo de las caracteristicas basicas."
   ]
  }
 ],
 "metadata": {
  "kernelspec": {
   "display_name": "Python 3",
   "language": "python",
   "name": "python3"
  },
  "language_info": {
   "codemirror_mode": {
    "name": "ipython",
    "version": 3
   },
   "file_extension": ".py",
   "mimetype": "text/x-python",
   "name": "python",
   "nbconvert_exporter": "python",
   "pygments_lexer": "ipython3",
   "version": "3.11.9"
  }
 },
 "nbformat": 4,
 "nbformat_minor": 5
}
