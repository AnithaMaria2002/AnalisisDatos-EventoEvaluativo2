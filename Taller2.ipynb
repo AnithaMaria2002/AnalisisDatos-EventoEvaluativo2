{
 "cells": [
  {
   "cell_type": "markdown",
   "id": "bca4ab66",
   "metadata": {},
   "source": [
    "# Exploracion Bases De Datos\n",
    "\n",
    "## Cats - Dogs (Audios)\n",
    "- **Fuente**: [Audio Cats and Dogs - Kaggle](https://www.kaggle.com/datasets/mmoreaux/audio-cats-and-dogs)\n",
    "- **Tipo De Datos**: Esta es una base de datos **secundaria**, ya que la información fue recopilada por otras personas. Se trata de datos de acceso público que no fueron recolectados específicamente con el propósito de realizar un análisis.\n",
    "    - Los datos costan de audios de gatos y perros en formato .wav de 16KHz y duracion variable.\n",
    "\n",
    "A continuacion el calculo de las caracteristicas basicas.\n"
   ]
  },
  {
   "cell_type": "code",
   "execution_count": 12,
   "id": "c700aabe",
   "metadata": {},
   "outputs": [
    {
     "name": "stdout",
     "output_type": "stream",
     "text": [
      "Cantidad total de archivos: 277\n",
      "Cantidad de archivos para 'cat': 164\n",
      "Cantidad de archivos para 'dog': 113\n"
     ]
    }
   ],
   "source": [
    "import os\n",
    "\n",
    "# Ruta de la carpeta\n",
    "folder_path = \"cats_dogs\"\n",
    "\n",
    "# Listas para almacenar los nombres de los archivos\n",
    "all_files = []\n",
    "cat_files = []\n",
    "dog_files = []\n",
    "\n",
    "# Recorremos todos los archivos de la carpeta\n",
    "for file in os.listdir(folder_path):\n",
    "    if os.path.isfile(os.path.join(folder_path, file)):  # verificamos que sea un archivo\n",
    "        all_files.append(file)\n",
    "        if \"cat\" in file.lower():   # buscar 'cat' sin importar mayúsculas\n",
    "            cat_files.append(file)\n",
    "        elif \"dog\" in file.lower(): # buscar 'dog' sin importar mayúsculas\n",
    "            dog_files.append(file)\n",
    "\n",
    "# Resultados\n",
    "print(\"Cantidad total de archivos:\", len(all_files))\n",
    "print(\"Cantidad de archivos para 'cat':\", len(cat_files))\n",
    "print(\"Cantidad de archivos para 'dog':\", len(dog_files))\n"
   ]
  },
  {
   "cell_type": "markdown",
   "id": "ba0cea0c",
   "metadata": {},
   "source": [
    "- **Caracteristicas Basicas**\n",
    "    - Cantidad **total** de archivos: 277\n",
    "    - Cantidad de archivos para **'cat'**: 164\n",
    "    - Cantidad de archivos para **'dog'**: 113\n",
    "- **Posibles Aplicaciones**: Clasificación de sonidos, Reconocimiento de animales en ambientes reales, Detección temprana en dispositivos IoT (ej. Alexa)\n"
   ]
  },
  {
   "cell_type": "markdown",
   "id": "bdaffc98",
   "metadata": {},
   "source": [
    "# Rayos X Neumonia (Imagenes)\n",
    "\n",
    "- **Fuente**: [Chest X-Ray Images (Pneumonia) - Kaggle](https://www.kaggle.com/code/shyambv/starter-chest-x-ray-images-pneumonia-0f43d8bd-7)\n",
    "- **Tipo De Datos**: Esta es una base de datos **secundaria**, ya que la información fue recopilada por otras personas. Se trata de datos de acceso público que no fueron recolectados específicamente con el propósito de realizar un análisis.\n",
    "    - Los datos costan de imagenes de rayos x de personas con y sin neumonia, el formato de las imagenes es jpeg con dimensiones variables.\n",
    "\n",
    "A continuacion el calculo de las caracteristicas basicas."
   ]
  },
  {
   "cell_type": "code",
   "execution_count": null,
   "id": "502e2345",
   "metadata": {},
   "outputs": [
    {
     "ename": "FileNotFoundError",
     "evalue": "[WinError 3] The system cannot find the path specified: 'chest_xray/test\\\\NORMAL'",
     "output_type": "error",
     "traceback": [
      "\u001b[31m---------------------------------------------------------------------------\u001b[39m",
      "\u001b[31mFileNotFoundError\u001b[39m                         Traceback (most recent call last)",
      "\u001b[36mCell\u001b[39m\u001b[36m \u001b[39m\u001b[32mIn[15]\u001b[39m\u001b[32m, line 11\u001b[39m\n\u001b[32m      8\u001b[39m     \u001b[38;5;28;01mreturn\u001b[39;00m \u001b[38;5;28mlen\u001b[39m([f \u001b[38;5;28;01mfor\u001b[39;00m f \u001b[38;5;129;01min\u001b[39;00m os.listdir(carpeta) \u001b[38;5;28;01mif\u001b[39;00m os.path.isfile(os.path.join(carpeta, f))])\n\u001b[32m     10\u001b[39m \u001b[38;5;66;03m# Contar imágenes\u001b[39;00m\n\u001b[32m---> \u001b[39m\u001b[32m11\u001b[39m normal_count = \u001b[43mcontar_imagenes\u001b[49m\u001b[43m(\u001b[49m\u001b[43mnormal_path\u001b[49m\u001b[43m)\u001b[49m\n\u001b[32m     12\u001b[39m pneumonia_count = contar_imagenes(pneumonia_path)\n\u001b[32m     14\u001b[39m \u001b[38;5;66;03m# Resultados\u001b[39;00m\n",
      "\u001b[36mCell\u001b[39m\u001b[36m \u001b[39m\u001b[32mIn[15]\u001b[39m\u001b[32m, line 8\u001b[39m, in \u001b[36mcontar_imagenes\u001b[39m\u001b[34m(carpeta)\u001b[39m\n\u001b[32m      7\u001b[39m \u001b[38;5;28;01mdef\u001b[39;00m\u001b[38;5;250m \u001b[39m\u001b[34mcontar_imagenes\u001b[39m(carpeta):\n\u001b[32m----> \u001b[39m\u001b[32m8\u001b[39m     \u001b[38;5;28;01mreturn\u001b[39;00m \u001b[38;5;28mlen\u001b[39m([f \u001b[38;5;28;01mfor\u001b[39;00m f \u001b[38;5;129;01min\u001b[39;00m \u001b[43mos\u001b[49m\u001b[43m.\u001b[49m\u001b[43mlistdir\u001b[49m\u001b[43m(\u001b[49m\u001b[43mcarpeta\u001b[49m\u001b[43m)\u001b[49m \u001b[38;5;28;01mif\u001b[39;00m os.path.isfile(os.path.join(carpeta, f))])\n",
      "\u001b[31mFileNotFoundError\u001b[39m: [WinError 3] The system cannot find the path specified: 'chest_xray/test\\\\NORMAL'"
     ]
    }
   ],
   "source": [
    "# Rutas de las carpetas\n",
    "train_path = \"chest_xray/train\"\n",
    "normal_path = os.path.join(train_path, \"NORMAL\")\n",
    "pneumonia_path = os.path.join(train_path, \"PNEUMONIA\")\n",
    "\n",
    "# Función para contar imágenes en una carpeta\n",
    "def contar_imagenes(carpeta):\n",
    "    return len([f for f in os.listdir(carpeta) if os.path.isfile(os.path.join(carpeta, f))])\n",
    "\n",
    "# Contar imágenes\n",
    "normal_count = contar_imagenes(normal_path)\n",
    "pneumonia_count = contar_imagenes(pneumonia_path)\n",
    "\n",
    "# Resultados\n",
    "print(\"Cantidad total de imágenes:\", normal_count + pneumonia_count)\n",
    "print(\"Cantidad de imágenes de personas NORMAL:\", normal_count)\n",
    "print(\"Cantidad de imágenes de personas con PNEUMONIA:\", pneumonia_count)"
   ]
  },
  {
   "cell_type": "markdown",
   "id": "8c80b6aa",
   "metadata": {},
   "source": [
    "- **Caracteristicas Basicas**\n",
    "    - Cantidad total de imágenes: 5216\n",
    "    - Cantidad de imágenes de personas **NORMAL**: 1341\n",
    "    - Cantidad de imágenes de personas con **PNEUMONIA**: 3875\n",
    "- **Posibles Aplicaciones**: Diagnóstico asistido por IA, Detección temprana y triage, Educación médica"
   ]
  },
  {
   "cell_type": "markdown",
   "id": "27d77df1",
   "metadata": {},
   "source": [
    "# Ventas Shopify (Tabular)"
   ]
  }
 ],
 "metadata": {
  "kernelspec": {
   "display_name": "Python 3",
   "language": "python",
   "name": "python3"
  },
  "language_info": {
   "codemirror_mode": {
    "name": "ipython",
    "version": 3
   },
   "file_extension": ".py",
   "mimetype": "text/x-python",
   "name": "python",
   "nbconvert_exporter": "python",
   "pygments_lexer": "ipython3",
   "version": "3.11.9"
  }
 },
 "nbformat": 4,
 "nbformat_minor": 5
}
