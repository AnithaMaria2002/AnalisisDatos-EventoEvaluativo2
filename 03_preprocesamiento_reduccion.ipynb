{
 "cells": [
  {
   "cell_type": "markdown",
   "id": "09aef9c0",
   "metadata": {},
   "source": [
    "# Preprocesamiento y reducción"
   ]
  },
  {
   "cell_type": "code",
   "execution_count": null,
   "id": "c24ff4ce",
   "metadata": {},
   "outputs": [],
   "source": [
    "# Codificación de variables categóricas\n",
    "from sklearn.preprocessing import OneHotEncoder\n",
    "import pandas as pd\n",
    "\n",
    "# Supongamos que tienes un DataFrame llamado df con variables categóricas y numéricas\n",
    "# Codificamos las variables categóricas\n",
    "categorical_cols = df.select_dtypes(include=['object', 'category']).columns\n",
    "encoder = OneHotEncoder(sparse=False, drop='first')\n",
    "encoded = encoder.fit_transform(df[categorical_cols])\n",
    "encoded_df = pd.DataFrame(encoded, columns=encoder.get_feature_names_out(categorical_cols), index=df.index)\n",
    "\n",
    "# Escalado de variables numéricas\n",
    "from sklearn.preprocessing import StandardScaler\n",
    "\n",
    "numeric_cols = df.select_dtypes(include=['int64', 'float64']).columns\n",
    "scaler = StandardScaler()\n",
    "scaled = scaler.fit_transform(df[numeric_cols])\n",
    "scaled_df = pd.DataFrame(scaled, columns=numeric_cols, index=df.index)\n",
    "\n",
    "# Unimos los datos procesados\n",
    "df_processed = pd.concat([scaled_df, encoded_df], axis=1)\n",
    "\n",
    "# Reducción de dimensionalidad y visualización\n",
    "from sklearn.decomposition import PCA\n",
    "import matplotlib.pyplot as plt\n",
    "\n",
    "pca = PCA(n_components=2)\n",
    "pca_result = pca.fit_transform(df_processed)\n",
    "plt.figure(figsize=(8,6))\n",
    "plt.scatter(pca_result[:,0], pca_result[:,1])\n",
    "plt.title('Visualización PCA')\n",
    "plt.xlabel('PC1')\n",
    "plt.ylabel('PC2')\n",
    "plt.show()"
   ]
  }
 ],
 "metadata": {
  "language_info": {
   "name": "python"
  }
 },
 "nbformat": 4,
 "nbformat_minor": 5
}
