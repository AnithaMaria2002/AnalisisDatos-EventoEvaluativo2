{
 "cells": [
  {
   "cell_type": "markdown",
   "id": "72c9c00d",
   "metadata": {},
   "source": [
    "# EDA\n",
    "\n",
    "Elegimos la base de datos de **Adult Income (Census Income)** porque se ajusta a nuestro nivel de conocimiento y a las herramientas que dominamos. A diferencia de conjuntos más complejos, como los de visión por computadora o procesamiento de lenguaje natural, esta base combina variables demográficas y laborales que son más fáciles de interpretar y manipular. Esto nos permite aplicar con seguridad técnicas de análisis exploratorio, clasificación y evaluación de sesgos, obteniendo resultados significativos y útiles sin necesidad de recurrir a metodologías demasiado especializadas."
   ]
  },
  {
   "cell_type": "markdown",
   "id": "23eb0ddd",
   "metadata": {},
   "source": [
    "## Importar Librerias"
   ]
  },
  {
   "cell_type": "code",
   "execution_count": 68,
   "id": "a2176ea5",
   "metadata": {},
   "outputs": [],
   "source": [
    "import pandas as pd\n",
    "import numpy as np\n",
    "import matplotlib.pyplot as plt\n",
    "import seaborn as sns"
   ]
  },
  {
   "cell_type": "markdown",
   "id": "bf3a491a",
   "metadata": {},
   "source": [
    "## Revision de valores faltantes"
   ]
  },
  {
   "cell_type": "markdown",
   "id": "0783b7bc",
   "metadata": {},
   "source": [
    "### Leer los datos"
   ]
  },
  {
   "cell_type": "code",
   "execution_count": 60,
   "id": "11e41a38",
   "metadata": {},
   "outputs": [
    {
     "data": {
      "text/html": [
       "<div>\n",
       "<style scoped>\n",
       "    .dataframe tbody tr th:only-of-type {\n",
       "        vertical-align: middle;\n",
       "    }\n",
       "\n",
       "    .dataframe tbody tr th {\n",
       "        vertical-align: top;\n",
       "    }\n",
       "\n",
       "    .dataframe thead th {\n",
       "        text-align: right;\n",
       "    }\n",
       "</style>\n",
       "<table border=\"1\" class=\"dataframe\">\n",
       "  <thead>\n",
       "    <tr style=\"text-align: right;\">\n",
       "      <th></th>\n",
       "      <th>age</th>\n",
       "      <th>workclass</th>\n",
       "      <th>fnlwgt</th>\n",
       "      <th>education</th>\n",
       "      <th>education-num</th>\n",
       "      <th>marital-status</th>\n",
       "      <th>occupation</th>\n",
       "      <th>relationship</th>\n",
       "      <th>race</th>\n",
       "      <th>sex</th>\n",
       "      <th>capital-gain</th>\n",
       "      <th>capital-loss</th>\n",
       "      <th>hours-per-week</th>\n",
       "      <th>native-country</th>\n",
       "      <th>income</th>\n",
       "    </tr>\n",
       "  </thead>\n",
       "  <tbody>\n",
       "    <tr>\n",
       "      <th>0</th>\n",
       "      <td>age</td>\n",
       "      <td>workclass</td>\n",
       "      <td>fnlwgt</td>\n",
       "      <td>education</td>\n",
       "      <td>education.num</td>\n",
       "      <td>marital.status</td>\n",
       "      <td>occupation</td>\n",
       "      <td>relationship</td>\n",
       "      <td>race</td>\n",
       "      <td>sex</td>\n",
       "      <td>capital.gain</td>\n",
       "      <td>capital.loss</td>\n",
       "      <td>hours.per.week</td>\n",
       "      <td>native.country</td>\n",
       "      <td>income</td>\n",
       "    </tr>\n",
       "    <tr>\n",
       "      <th>1</th>\n",
       "      <td>90</td>\n",
       "      <td>?</td>\n",
       "      <td>77053</td>\n",
       "      <td>HS-grad</td>\n",
       "      <td>9</td>\n",
       "      <td>Widowed</td>\n",
       "      <td>?</td>\n",
       "      <td>Not-in-family</td>\n",
       "      <td>White</td>\n",
       "      <td>Female</td>\n",
       "      <td>0</td>\n",
       "      <td>4356</td>\n",
       "      <td>40</td>\n",
       "      <td>United-States</td>\n",
       "      <td>&lt;=50K</td>\n",
       "    </tr>\n",
       "    <tr>\n",
       "      <th>2</th>\n",
       "      <td>82</td>\n",
       "      <td>Private</td>\n",
       "      <td>132870</td>\n",
       "      <td>HS-grad</td>\n",
       "      <td>9</td>\n",
       "      <td>Widowed</td>\n",
       "      <td>Exec-managerial</td>\n",
       "      <td>Not-in-family</td>\n",
       "      <td>White</td>\n",
       "      <td>Female</td>\n",
       "      <td>0</td>\n",
       "      <td>4356</td>\n",
       "      <td>18</td>\n",
       "      <td>United-States</td>\n",
       "      <td>&lt;=50K</td>\n",
       "    </tr>\n",
       "    <tr>\n",
       "      <th>3</th>\n",
       "      <td>66</td>\n",
       "      <td>?</td>\n",
       "      <td>186061</td>\n",
       "      <td>Some-college</td>\n",
       "      <td>10</td>\n",
       "      <td>Widowed</td>\n",
       "      <td>?</td>\n",
       "      <td>Unmarried</td>\n",
       "      <td>Black</td>\n",
       "      <td>Female</td>\n",
       "      <td>0</td>\n",
       "      <td>4356</td>\n",
       "      <td>40</td>\n",
       "      <td>United-States</td>\n",
       "      <td>&lt;=50K</td>\n",
       "    </tr>\n",
       "    <tr>\n",
       "      <th>4</th>\n",
       "      <td>54</td>\n",
       "      <td>Private</td>\n",
       "      <td>140359</td>\n",
       "      <td>7th-8th</td>\n",
       "      <td>4</td>\n",
       "      <td>Divorced</td>\n",
       "      <td>Machine-op-inspct</td>\n",
       "      <td>Unmarried</td>\n",
       "      <td>White</td>\n",
       "      <td>Female</td>\n",
       "      <td>0</td>\n",
       "      <td>3900</td>\n",
       "      <td>40</td>\n",
       "      <td>United-States</td>\n",
       "      <td>&lt;=50K</td>\n",
       "    </tr>\n",
       "  </tbody>\n",
       "</table>\n",
       "</div>"
      ],
      "text/plain": [
       "   age  workclass  fnlwgt     education  education-num  marital-status  \\\n",
       "0  age  workclass  fnlwgt     education  education.num  marital.status   \n",
       "1   90          ?   77053       HS-grad              9         Widowed   \n",
       "2   82    Private  132870       HS-grad              9         Widowed   \n",
       "3   66          ?  186061  Some-college             10         Widowed   \n",
       "4   54    Private  140359       7th-8th              4        Divorced   \n",
       "\n",
       "          occupation   relationship   race     sex  capital-gain  \\\n",
       "0         occupation   relationship   race     sex  capital.gain   \n",
       "1                  ?  Not-in-family  White  Female             0   \n",
       "2    Exec-managerial  Not-in-family  White  Female             0   \n",
       "3                  ?      Unmarried  Black  Female             0   \n",
       "4  Machine-op-inspct      Unmarried  White  Female             0   \n",
       "\n",
       "   capital-loss  hours-per-week  native-country  income  \n",
       "0  capital.loss  hours.per.week  native.country  income  \n",
       "1          4356              40   United-States   <=50K  \n",
       "2          4356              18   United-States   <=50K  \n",
       "3          4356              40   United-States   <=50K  \n",
       "4          3900              40   United-States   <=50K  "
      ]
     },
     "execution_count": 60,
     "metadata": {},
     "output_type": "execute_result"
    }
   ],
   "source": [
    "# Los nombres de las columnas según la documentación del dataset\n",
    "column_names = ['age', 'workclass', 'fnlwgt', 'education', 'education-num', 'marital-status', 'occupation', 'relationship', 'race', 'sex', 'capital-gain', 'capital-loss', 'hours-per-week', 'native-country', 'income']\n",
    "\n",
    "df = pd.read_csv('./income/adult.csv', header=None, names=column_names, skipinitialspace=True)\n",
    "\n",
    "df.head()"
   ]
  },
  {
   "cell_type": "code",
   "execution_count": 61,
   "id": "57bbc715",
   "metadata": {},
   "outputs": [
    {
     "data": {
      "text/html": [
       "<div>\n",
       "<style scoped>\n",
       "    .dataframe tbody tr th:only-of-type {\n",
       "        vertical-align: middle;\n",
       "    }\n",
       "\n",
       "    .dataframe tbody tr th {\n",
       "        vertical-align: top;\n",
       "    }\n",
       "\n",
       "    .dataframe thead th {\n",
       "        text-align: right;\n",
       "    }\n",
       "</style>\n",
       "<table border=\"1\" class=\"dataframe\">\n",
       "  <thead>\n",
       "    <tr style=\"text-align: right;\">\n",
       "      <th></th>\n",
       "      <th>age</th>\n",
       "      <th>workclass</th>\n",
       "      <th>fnlwgt</th>\n",
       "      <th>education</th>\n",
       "      <th>education-num</th>\n",
       "      <th>marital-status</th>\n",
       "      <th>occupation</th>\n",
       "      <th>relationship</th>\n",
       "      <th>race</th>\n",
       "      <th>sex</th>\n",
       "      <th>capital-gain</th>\n",
       "      <th>capital-loss</th>\n",
       "      <th>hours-per-week</th>\n",
       "      <th>native-country</th>\n",
       "      <th>income</th>\n",
       "    </tr>\n",
       "  </thead>\n",
       "  <tbody>\n",
       "    <tr>\n",
       "      <th>count</th>\n",
       "      <td>32562</td>\n",
       "      <td>32562</td>\n",
       "      <td>32562</td>\n",
       "      <td>32562</td>\n",
       "      <td>32562</td>\n",
       "      <td>32562</td>\n",
       "      <td>32562</td>\n",
       "      <td>32562</td>\n",
       "      <td>32562</td>\n",
       "      <td>32562</td>\n",
       "      <td>32562</td>\n",
       "      <td>32562</td>\n",
       "      <td>32562</td>\n",
       "      <td>32562</td>\n",
       "      <td>32562</td>\n",
       "    </tr>\n",
       "    <tr>\n",
       "      <th>unique</th>\n",
       "      <td>74</td>\n",
       "      <td>10</td>\n",
       "      <td>21649</td>\n",
       "      <td>17</td>\n",
       "      <td>17</td>\n",
       "      <td>8</td>\n",
       "      <td>16</td>\n",
       "      <td>7</td>\n",
       "      <td>6</td>\n",
       "      <td>3</td>\n",
       "      <td>120</td>\n",
       "      <td>93</td>\n",
       "      <td>95</td>\n",
       "      <td>43</td>\n",
       "      <td>3</td>\n",
       "    </tr>\n",
       "    <tr>\n",
       "      <th>top</th>\n",
       "      <td>36</td>\n",
       "      <td>Private</td>\n",
       "      <td>164190</td>\n",
       "      <td>HS-grad</td>\n",
       "      <td>9</td>\n",
       "      <td>Married-civ-spouse</td>\n",
       "      <td>Prof-specialty</td>\n",
       "      <td>Husband</td>\n",
       "      <td>White</td>\n",
       "      <td>Male</td>\n",
       "      <td>0</td>\n",
       "      <td>0</td>\n",
       "      <td>40</td>\n",
       "      <td>United-States</td>\n",
       "      <td>&lt;=50K</td>\n",
       "    </tr>\n",
       "    <tr>\n",
       "      <th>freq</th>\n",
       "      <td>898</td>\n",
       "      <td>22696</td>\n",
       "      <td>13</td>\n",
       "      <td>10501</td>\n",
       "      <td>10501</td>\n",
       "      <td>14976</td>\n",
       "      <td>4140</td>\n",
       "      <td>13193</td>\n",
       "      <td>27816</td>\n",
       "      <td>21790</td>\n",
       "      <td>29849</td>\n",
       "      <td>31042</td>\n",
       "      <td>15217</td>\n",
       "      <td>29170</td>\n",
       "      <td>24720</td>\n",
       "    </tr>\n",
       "  </tbody>\n",
       "</table>\n",
       "</div>"
      ],
      "text/plain": [
       "          age workclass  fnlwgt education education-num      marital-status  \\\n",
       "count   32562     32562   32562     32562         32562               32562   \n",
       "unique     74        10   21649        17            17                   8   \n",
       "top        36   Private  164190   HS-grad             9  Married-civ-spouse   \n",
       "freq      898     22696      13     10501         10501               14976   \n",
       "\n",
       "            occupation relationship   race    sex capital-gain capital-loss  \\\n",
       "count            32562        32562  32562  32562        32562        32562   \n",
       "unique              16            7      6      3          120           93   \n",
       "top     Prof-specialty      Husband  White   Male            0            0   \n",
       "freq              4140        13193  27816  21790        29849        31042   \n",
       "\n",
       "       hours-per-week native-country income  \n",
       "count           32562          32562  32562  \n",
       "unique             95             43      3  \n",
       "top                40  United-States  <=50K  \n",
       "freq            15217          29170  24720  "
      ]
     },
     "execution_count": 61,
     "metadata": {},
     "output_type": "execute_result"
    }
   ],
   "source": [
    "df.describe()"
   ]
  },
  {
   "cell_type": "markdown",
   "id": "176fb271",
   "metadata": {},
   "source": [
    "### Variables con datos ausentes\n",
    "\n",
    "Evidenciamos la lectura correcta de los datos, rapidamente se pueden identificar valores '?' el creador de la base de datos decidio marcar valores faltantes con este valor. Los remplazamos por nan para ser reconocidos facilmente."
   ]
  },
  {
   "cell_type": "code",
   "execution_count": 62,
   "id": "c898bd03",
   "metadata": {},
   "outputs": [
    {
     "data": {
      "text/plain": [
       "age               object\n",
       "workclass         object\n",
       "fnlwgt            object\n",
       "education         object\n",
       "education-num     object\n",
       "marital-status    object\n",
       "occupation        object\n",
       "relationship      object\n",
       "race              object\n",
       "sex               object\n",
       "capital-gain      object\n",
       "capital-loss      object\n",
       "hours-per-week    object\n",
       "native-country    object\n",
       "income            object\n",
       "dtype: object"
      ]
     },
     "execution_count": 62,
     "metadata": {},
     "output_type": "execute_result"
    }
   ],
   "source": [
    "df.replace('?', np.nan, inplace=True)\n",
    "\n",
    "# Revisamos los tipos de datos\n",
    "df.dtypes"
   ]
  },
  {
   "cell_type": "markdown",
   "id": "f6eaa708",
   "metadata": {},
   "source": [
    "### Ajuste de tipos de datos\n",
    "\n",
    "Identificamos que los valores numericos no son reconocidos como tal."
   ]
  },
  {
   "cell_type": "code",
   "execution_count": 63,
   "id": "986401f8",
   "metadata": {},
   "outputs": [
    {
     "data": {
      "text/plain": [
       "age                  1\n",
       "workclass         1836\n",
       "fnlwgt               1\n",
       "education            0\n",
       "education-num        1\n",
       "marital-status       0\n",
       "occupation        1843\n",
       "relationship         0\n",
       "race                 0\n",
       "sex                  0\n",
       "capital-gain         1\n",
       "capital-loss         1\n",
       "hours-per-week       1\n",
       "native-country     583\n",
       "income               0\n",
       "dtype: int64"
      ]
     },
     "execution_count": 63,
     "metadata": {},
     "output_type": "execute_result"
    }
   ],
   "source": [
    "numerical_features = ['age', 'fnlwgt', 'education-num', 'capital-gain', 'capital-loss', 'hours-per-week']\n",
    "\n",
    "for col in numerical_features:\n",
    "    df[col] = pd.to_numeric(df[col], errors='coerce')\n",
    "\n",
    "# Verificamos los valores nulos en cada columna\n",
    "df.isnull().sum()"
   ]
  },
  {
   "cell_type": "markdown",
   "id": "08f5d7cc",
   "metadata": {},
   "source": [
    "Se identifican valores nulos en las columnas categóricas. Procedemos a eliminarlos para simplificar el análisis."
   ]
  },
  {
   "cell_type": "code",
   "execution_count": 64,
   "id": "2a32035f",
   "metadata": {},
   "outputs": [
    {
     "name": "stdout",
     "output_type": "stream",
     "text": [
      "DF despues de borrar filas con valores nulos: (30162, 15)\n",
      "Tipos de datos de las columnas:\n",
      "age               float64\n",
      "workclass          object\n",
      "fnlwgt            float64\n",
      "education          object\n",
      "education-num     float64\n",
      "marital-status     object\n",
      "occupation         object\n",
      "relationship       object\n",
      "race               object\n",
      "sex                object\n",
      "capital-gain      float64\n",
      "capital-loss      float64\n",
      "hours-per-week    float64\n",
      "native-country     object\n",
      "income             object\n",
      "dtype: object\n"
     ]
    }
   ],
   "source": [
    "# Eliminamos filas con valores nulos\n",
    "df.dropna(inplace=True)\n",
    "\n",
    "print(\"DF despues de borrar filas con valores nulos:\", df.shape)\n",
    "print(\"Tipos de datos de las columnas:\")\n",
    "print(df.dtypes)"
   ]
  },
  {
   "cell_type": "markdown",
   "id": "21ab4c1f",
   "metadata": {},
   "source": [
    "### Creacion de indicadores\n",
    "\n",
    "Creamos una nueva categoria age group basada en rangos de edad para ayudar en el análisis"
   ]
  },
  {
   "cell_type": "code",
   "execution_count": 65,
   "id": "016375cb",
   "metadata": {},
   "outputs": [
    {
     "data": {
      "text/html": [
       "<div>\n",
       "<style scoped>\n",
       "    .dataframe tbody tr th:only-of-type {\n",
       "        vertical-align: middle;\n",
       "    }\n",
       "\n",
       "    .dataframe tbody tr th {\n",
       "        vertical-align: top;\n",
       "    }\n",
       "\n",
       "    .dataframe thead th {\n",
       "        text-align: right;\n",
       "    }\n",
       "</style>\n",
       "<table border=\"1\" class=\"dataframe\">\n",
       "  <thead>\n",
       "    <tr style=\"text-align: right;\">\n",
       "      <th></th>\n",
       "      <th>age</th>\n",
       "      <th>age_group</th>\n",
       "    </tr>\n",
       "  </thead>\n",
       "  <tbody>\n",
       "    <tr>\n",
       "      <th>2</th>\n",
       "      <td>82.0</td>\n",
       "      <td>Senior</td>\n",
       "    </tr>\n",
       "    <tr>\n",
       "      <th>4</th>\n",
       "      <td>54.0</td>\n",
       "      <td>Middle-Aged</td>\n",
       "    </tr>\n",
       "    <tr>\n",
       "      <th>5</th>\n",
       "      <td>41.0</td>\n",
       "      <td>Middle-Aged</td>\n",
       "    </tr>\n",
       "    <tr>\n",
       "      <th>6</th>\n",
       "      <td>34.0</td>\n",
       "      <td>Adult</td>\n",
       "    </tr>\n",
       "    <tr>\n",
       "      <th>7</th>\n",
       "      <td>38.0</td>\n",
       "      <td>Adult</td>\n",
       "    </tr>\n",
       "  </tbody>\n",
       "</table>\n",
       "</div>"
      ],
      "text/plain": [
       "    age    age_group\n",
       "2  82.0       Senior\n",
       "4  54.0  Middle-Aged\n",
       "5  41.0  Middle-Aged\n",
       "6  34.0        Adult\n",
       "7  38.0        Adult"
      ]
     },
     "execution_count": 65,
     "metadata": {},
     "output_type": "execute_result"
    }
   ],
   "source": [
    "df['age_group'] = pd.cut(df['age'], bins=[17, 25, 40, 60, 90], labels=['Youth', 'Adult', 'Middle-Aged', 'Senior'])\n",
    "\n",
    "df[['age', 'age_group']].head()"
   ]
  },
  {
   "cell_type": "markdown",
   "id": "107a79bd",
   "metadata": {},
   "source": [
    "## Detección de valores atípicos:"
   ]
  },
  {
   "cell_type": "code",
   "execution_count": 70,
   "id": "afcebbd1",
   "metadata": {},
   "outputs": [
    {
     "data": {
      "image/png": "[encoded data removed]",
      "text/plain": [
       "<Figure size 1500x1500 with 6 Axes>"
      ]
     },
     "metadata": {},
     "output_type": "display_data"
    }
   ],
   "source": [
    "\n",
    "fig, axes = plt.subplots(nrows=3, ncols=2, figsize=(15, 15))\n",
    "fig.suptitle('Box Plots de Variables Numéricas', fontsize=20)\n",
    "axes = axes.flatten()\n",
    "\n",
    "for i, col in enumerate(numerical_features):\n",
    "    sns.boxplot(x=df[col], ax=axes[i])\n",
    "    axes[i].set_title(f'Box Plot de {col}', fontsize=14)\n",
    "    axes[i].set_xlabel('')\n",
    "\n",
    "plt.tight_layout(rect=[0, 0.03, 1, 0.95])\n",
    "plt.show()"
   ]
  },
  {
   "cell_type": "markdown",
   "id": "710d4774",
   "metadata": {},
   "source": [
    "## Analisis de distribuciones: "
   ]
  },
  {
   "cell_type": "markdown",
   "id": "a87eecc0",
   "metadata": {},
   "source": [
    "## Analisis univariado:"
   ]
  },
  {
   "cell_type": "markdown",
   "id": "7fa6ecdf",
   "metadata": {},
   "source": [
    "## Analisis multivariado:"
   ]
  },
  {
   "cell_type": "markdown",
   "id": "a4f63125",
   "metadata": {},
   "source": [
    "## Relaciones entre variables:"
   ]
  },
  {
   "cell_type": "markdown",
   "id": "4dc5b60c",
   "metadata": {},
   "source": [
    "## Construccion de hipotesis iniciales: "
   ]
  },
  {
   "cell_type": "markdown",
   "id": "ca4ddc4b",
   "metadata": {},
   "source": [
    "## Visualizaciones clave:"
   ]
  },
  {
   "cell_type": "markdown",
   "id": "a1740e2a",
   "metadata": {},
   "source": [
    "## Insights principales:"
   ]
  }
 ],
 "metadata": {
  "kernelspec": {
   "display_name": "Python 3",
   "language": "python",
   "name": "python3"
  },
  "language_info": {
   "codemirror_mode": {
    "name": "ipython",
    "version": 3
   },
   "file_extension": ".py",
   "mimetype": "text/x-python",
   "name": "python",
   "nbconvert_exporter": "python",
   "pygments_lexer": "ipython3",
   "version": "3.11.9"
  }
 },
 "nbformat": 4,
 "nbformat_minor": 5
}
