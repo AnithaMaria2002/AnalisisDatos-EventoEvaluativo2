{
 "cells": [
  {
   "cell_type": "markdown",
   "id": "6babacdf",
   "metadata": {},
   "source": [
    "# EDA\n",
    "\n",
    "Elegimos la base de datos de **Ventas** porque se ajusta mejor a nuestro conocimiento y experiencia previa. Mientras que las bases de audio de perros y gatos o de imágenes médicas requieren técnicas avanzadas de procesamiento de señales e imágenes, la BD de Ventas nos resulta más cercana y comprensible. Esto nos permite aplicar con mayor confianza métodos de análisis exploratorio, segmentación y modelado, generando resultados útiles y relevantes sin salirnos de nuestro campo de dominio."
   ]
  },
  {
   "cell_type": "markdown",
   "id": "80f2ef62",
   "metadata": {},
   "source": [
    "## Lectura De Datos"
   ]
  },
  {
   "cell_type": "code",
   "execution_count": 1,
   "id": "7a178a70",
   "metadata": {},
   "outputs": [],
   "source": [
    "import pandas as pd\n",
    "\n",
    "# --- Rutas de los archivos ---\n",
    "clientes_file = \"ventas/clientes.xlsx\"\n",
    "productos_file = \"ventas/productos.xlsx\"\n",
    "orders_file = \"ventas/Orders.csv\""
   ]
  },
  {
   "cell_type": "code",
   "execution_count": 4,
   "id": "fa2f9020",
   "metadata": {},
   "outputs": [],
   "source": [
    "clientes_df = pd.read_excel(clientes_file)"
   ]
  },
  {
   "cell_type": "code",
   "execution_count": 12,
   "id": "890cf77b",
   "metadata": {},
   "outputs": [],
   "source": [
    "productos_df = pd.read_excel(productos_file)"
   ]
  },
  {
   "cell_type": "code",
   "execution_count": null,
   "id": "ba02d530",
   "metadata": {},
   "outputs": [
    {
     "name": "stderr",
     "output_type": "stream",
     "text": [
      "C:\\Users\\ANAMARIAVALENCIAQUIN\\AppData\\Local\\Temp\\ipykernel_19296\\730759445.py:1: DtypeWarning: Columns (4,6,9,20,22,23,27,30,31) have mixed types. Specify dtype option on import or set low_memory=False.\n",
      "  orders_df = pd.read_csv(orders_file)\n"
     ]
    }
   ],
   "source": [
    "orders_df = pd.read_csv(orders_file)\n",
    "\n",
    "# Renombrar Columnas\n",
    "orders_df = orders_df.rename(columns={\"Number\": \"Order ID\"})"
   ]
  },
  {
   "cell_type": "markdown",
   "id": "4b076021",
   "metadata": {},
   "source": [
    "##  Revision de valores faltantes: "
   ]
  },
  {
   "cell_type": "code",
   "execution_count": 14,
   "id": "4d51ff27",
   "metadata": {},
   "outputs": [],
   "source": [
    "# --- Función para analizar nulos ---\n",
    "def analizar_nulos(nombre, df):\n",
    "    print(f\"\\n===== {nombre} =====\")\n",
    "    # Conteo de nulos\n",
    "    nulos = df.isnull().sum()\n",
    "    # Porcentaje de nulos\n",
    "    porcentaje = (df.isnull().sum() / len(df)) * 100\n",
    "    # Tabla resumen\n",
    "    resumen = pd.DataFrame({\n",
    "        \"Nulos\": nulos,\n",
    "        \"% Nulos\": porcentaje\n",
    "    })\n",
    "    # Filtrar solo columnas con al menos un nulo\n",
    "    resumen = resumen[resumen[\"Nulos\"] > 0].sort_values(\"% Nulos\", ascending=False)\n",
    "\n",
    "    if resumen.empty:\n",
    "        print(\"✅ No hay datos ausentes\")\n",
    "    else:\n",
    "        print(resumen)\n",
    "\n",
    "    return resumen"
   ]
  },
  {
   "cell_type": "code",
   "execution_count": 15,
   "id": "85e2e497",
   "metadata": {},
   "outputs": [
    {
     "name": "stdout",
     "output_type": "stream",
     "text": [
      "\n",
      "===== Clientes =====\n",
      "                              Nulos    % Nulos\n",
      "Tags                         273787  82.205728\n",
      "SMS Marketing: Updated At    263089  78.993608\n",
      "Address Zip                  231403  69.479749\n",
      "Email Marketing: Updated At  202846  60.905387\n",
      "Total Orders                 133968  40.224470\n",
      "Total Spent                  133968  40.224470\n",
      "Top Row                      133968  40.224470\n",
      "Address Line 2               107372  32.238906\n",
      "SMS Marketing: Level          89071  26.743952\n",
      "SMS Marketing: Status         89071  26.743952\n",
      "SMS Marketing: Source         89071  26.743952\n",
      "Address Line 1                42924  12.888116\n",
      "Address Phone                 40589  12.187022\n",
      "Address Last Name             35497  10.658127\n",
      "Address Company               35468  10.649420\n",
      "Address Province Code         33815  10.153100\n",
      "Address Province              33815  10.153100\n",
      "Address First Name            32263   9.687105\n",
      "Address City                  32143   9.651074\n",
      "Address Country               23182   6.960496\n",
      "Address ID                    23182   6.960496\n",
      "Address Command               23182   6.960496\n",
      "Address Country Code          23182   6.960496\n",
      "Address Is Default            23182   6.960496\n",
      "Email Marketing: Status           4   0.001201\n",
      "Email Marketing: Level            4   0.001201\n"
     ]
    }
   ],
   "source": [
    "nulos_clientes = analizar_nulos(\"Clientes\", clientes_df)"
   ]
  },
  {
   "cell_type": "code",
   "execution_count": 16,
   "id": "9aef009d",
   "metadata": {},
   "outputs": [
    {
     "name": "stdout",
     "output_type": "stream",
     "text": [
      "\n",
      "===== Productos =====\n",
      "                           Nulos    % Nulos\n",
      "Body HTML                  25130  83.327807\n",
      "Variant Barcode             8917  29.567611\n",
      "Variant SKU                 8916  29.564295\n",
      "Variant Inventory Item ID   8892  29.484714\n",
      "Variant ID                  8892  29.484714\n",
      "Image Height                5459  18.101333\n",
      "Image Position              5459  18.101333\n",
      "Image Width                 5459  18.101333\n",
      "Image Src                   5459  18.101333\n",
      "Type                          49   0.162478\n"
     ]
    }
   ],
   "source": [
    "nulos_productos = analizar_nulos(\"Productos\", productos_df)"
   ]
  },
  {
   "cell_type": "code",
   "execution_count": 17,
   "id": "f4139a7b",
   "metadata": {},
   "outputs": [
    {
     "name": "stdout",
     "output_type": "stream",
     "text": [
      "\n",
      "===== Orders =====\n",
      "                                     Nulos    % Nulos\n",
      "User ID                            1736095  99.994298\n",
      "Cancelled At                       1736086  99.993779\n",
      "Cancel: Reason                     1736086  99.993779\n",
      "Transaction: Error Code            1730682  99.682524\n",
      "Transaction: Message               1712874  98.656832\n",
      "Transaction: Payment Method        1708065  98.379847\n",
      "Fulfillment: Tracking Number       1511181  87.039870\n",
      "Transaction: Amount                1508910  86.909067\n",
      "Transaction: Currency              1508910  86.909067\n",
      "Transaction: ID                    1508910  86.909067\n",
      "Transaction: Gateway               1508910  86.909067\n",
      "Transaction: Status                1508910  86.909067\n",
      "Transaction: Shop Currency Amount  1508910  86.909067\n",
      "Transaction: Shop Currency         1508910  86.909067\n",
      "Fulfillment: Shipment Status       1303192  75.060276\n",
      "Fulfillment: Tracking Company      1281759  73.825794\n",
      "Fulfillment: ID                    1125523  64.827030\n",
      "Fulfillment: Status                1125523  64.827030\n",
      "Fulfillment: Updated At            1125523  64.827030\n",
      "Fulfillment: Created At            1125523  64.827030\n",
      "Fulfillment: Location              1125523  64.827030\n",
      "Line: Product ID                   1043272  60.089598\n",
      "Line: Product Handle               1043272  60.089598\n",
      "Tags                                968400  55.777177\n",
      "Line: ID                            353525  20.362068\n",
      "Line: Title                         227284  13.090933\n"
     ]
    }
   ],
   "source": [
    "nulos_orders   = analizar_nulos(\"Orders\", orders_df)"
   ]
  },
  {
   "cell_type": "markdown",
   "id": "213279e8",
   "metadata": {},
   "source": [
    "Se identifican columnas al 100% de nulos, esto no aporta informacion por lo que se decide eliminar las columnas."
   ]
  },
  {
   "cell_type": "code",
   "execution_count": null,
   "id": "99304cd9",
   "metadata": {},
   "outputs": [],
   "source": [
    "clientes_df = clientes_df.drop(columns=[\"Note\", \"Multipass Identifier\", \"Send Account Activation Email\"])"
   ]
  }
 ],
 "metadata": {
  "kernelspec": {
   "display_name": "Python 3",
   "language": "python",
   "name": "python3"
  },
  "language_info": {
   "codemirror_mode": {
    "name": "ipython",
    "version": 3
   },
   "file_extension": ".py",
   "mimetype": "text/x-python",
   "name": "python",
   "nbconvert_exporter": "python",
   "pygments_lexer": "ipython3",
   "version": "3.11.9"
  }
 },
 "nbformat": 4,
 "nbformat_minor": 5
}
